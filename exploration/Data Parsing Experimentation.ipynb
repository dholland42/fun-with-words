{
 "cells": [
  {
   "cell_type": "markdown",
   "metadata": {},
   "source": [
    "# Initial Data Exploration\n",
    "\n",
    "Data taken from the Gutenberg Project"
   ]
  },
  {
   "cell_type": "markdown",
   "metadata": {},
   "source": [
    "## Load Data"
   ]
  },
  {
   "cell_type": "code",
   "execution_count": null,
   "metadata": {},
   "outputs": [],
   "source": [
    "!ls .."
   ]
  },
  {
   "cell_type": "code",
   "execution_count": null,
   "metadata": {},
   "outputs": [],
   "source": [
    "with open(\"../data/dictionary.txt\", encoding=\"utf-8\") as f:\n",
    "    lines = f.readlines()\n",
    "\n",
    "len(lines)"
   ]
  },
  {
   "cell_type": "markdown",
   "metadata": {},
   "source": [
    "## Kill header and footer"
   ]
  },
  {
   "cell_type": "code",
   "execution_count": null,
   "metadata": {},
   "outputs": [],
   "source": [
    "STARTLINE = 27\n",
    "ENDLINE = 973904"
   ]
  },
  {
   "cell_type": "code",
   "execution_count": null,
   "metadata": {},
   "outputs": [],
   "source": [
    "raw_data = lines[STARTLINE:ENDLINE]"
   ]
  },
  {
   "cell_type": "markdown",
   "metadata": {},
   "source": [
    "## Parsing Functions"
   ]
  },
  {
   "cell_type": "code",
   "execution_count": null,
   "metadata": {},
   "outputs": [],
   "source": [
    "import itertools\n",
    "import collections\n",
    "\n",
    "# we want to basically iterate through the lines in the following manner:\n",
    "# read a word (uppercase line)\n",
    "# read until you fine a real line\n",
    "# collect lines until blank line (this is a definition statement)\n",
    "# read until line\n",
    "\n",
    "def canonical_lines(raw_data):\n",
    "    current = \"\"\n",
    "    started = False\n",
    "    for row in raw_data:\n",
    "        row = row.strip()\n",
    "        if not row:\n",
    "            if current:\n",
    "                yield current.strip()\n",
    "                current = \"\"\n",
    "        elif row.isupper():\n",
    "            yield row\n",
    "        else:\n",
    "            current += \" \" + row\n",
    "\n",
    "def get_pairs(data):\n",
    "    word = \"\"\n",
    "    defs = []\n",
    "    for row in data:\n",
    "        if row.isupper():\n",
    "            if word:\n",
    "                for w in word.split(\";\"):\n",
    "                    if len(w.split()) == 1:\n",
    "                        yield w.strip(), defs\n",
    "            word = row\n",
    "            defs = []\n",
    "        elif row.lower().startswith(\"defn:\"):\n",
    "            for d in row[5:].split(\".\")[0].split(\";\"):\n",
    "                if not d.strip().startswith(\"See \"):\n",
    "                    defs.append(d.strip().lower())\n",
    "    for w in word.split(\";\"):\n",
    "        if len(w.split()) == 1:\n",
    "            yield w.strip(), defs\n",
    "\n",
    "def defns(raw_data, filter_func=lambda x: True):\n",
    "    words = collections.defaultdict(lambda : list())\n",
    "    for word, defn in filter(filter_func, get_pairs(canonical_lines(raw_data))):\n",
    "        if defn:\n",
    "            words[word.lower()].extend(defn)\n",
    "    return words"
   ]
  },
  {
   "cell_type": "markdown",
   "metadata": {},
   "source": [
    "## Parse the data into a dictionary of `{word: [def1, def2, ...]}`"
   ]
  },
  {
   "cell_type": "code",
   "execution_count": null,
   "metadata": {},
   "outputs": [],
   "source": [
    "words = defns(raw_data, lambda x: x[0].isalnum())"
   ]
  },
  {
   "cell_type": "code",
   "execution_count": null,
   "metadata": {},
   "outputs": [],
   "source": [
    "len(words)"
   ]
  },
  {
   "cell_type": "code",
   "execution_count": null,
   "metadata": {},
   "outputs": [],
   "source": [
    "words['the']"
   ]
  },
  {
   "cell_type": "markdown",
   "metadata": {},
   "source": [
    "## Set up a training dataset of (definition, word) pairs"
   ]
  },
  {
   "cell_type": "code",
   "execution_count": null,
   "metadata": {},
   "outputs": [],
   "source": [
    "data = [(d, word) for (word, defn) in words.items() for d in defn]"
   ]
  },
  {
   "cell_type": "code",
   "execution_count": null,
   "metadata": {},
   "outputs": [],
   "source": [
    "len(data)"
   ]
  },
  {
   "cell_type": "code",
   "execution_count": null,
   "metadata": {},
   "outputs": [],
   "source": [
    "data[0]"
   ]
  }
 ],
 "metadata": {
  "kernelspec": {
   "display_name": "Python 3",
   "language": "python",
   "name": "python3"
  },
  "language_info": {
   "codemirror_mode": {
    "name": "ipython",
    "version": 3
   },
   "file_extension": ".py",
   "mimetype": "text/x-python",
   "name": "python",
   "nbconvert_exporter": "python",
   "pygments_lexer": "ipython3",
   "version": "3.8.5"
  }
 },
 "nbformat": 4,
 "nbformat_minor": 4
}
